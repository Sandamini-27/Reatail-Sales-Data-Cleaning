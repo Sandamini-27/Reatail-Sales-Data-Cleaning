{
 "cells": [
  {
   "cell_type": "code",
   "execution_count": 1,
   "id": "42198d7f",
   "metadata": {},
   "outputs": [
    {
     "name": "stdout",
     "output_type": "stream",
     "text": [
      "C:\\Users\\User\\OneDrive\\Documents\\MSc Data Science\\BI and visualisation\\Data Set\n"
     ]
    }
   ],
   "source": [
    "import pandas as pd\n",
    "import os\n",
    "\n",
    "os.chdir(\"/Users/User/OneDrive/Documents/MSc Data Science/BI and visualisation/Data Set\")\n",
    "print(os.getcwd())"
   ]
  },
  {
   "cell_type": "markdown",
   "id": "024379d7",
   "metadata": {},
   "source": [
    "since pandas did not recognise question marks and name error codes as null values, the na_values parameter was used below. These special cases were introduced as null values in addition to the null values already recognised by pandas. "
   ]
  },
  {
   "cell_type": "code",
   "execution_count": 2,
   "id": "6880ea44",
   "metadata": {},
   "outputs": [
    {
     "data": {
      "text/html": [
       "<div>\n",
       "<style scoped>\n",
       "    .dataframe tbody tr th:only-of-type {\n",
       "        vertical-align: middle;\n",
       "    }\n",
       "\n",
       "    .dataframe tbody tr th {\n",
       "        vertical-align: top;\n",
       "    }\n",
       "\n",
       "    .dataframe thead th {\n",
       "        text-align: right;\n",
       "    }\n",
       "</style>\n",
       "<table border=\"1\" class=\"dataframe\">\n",
       "  <thead>\n",
       "    <tr style=\"text-align: right;\">\n",
       "      <th></th>\n",
       "      <th>ORDER_NUMBER</th>\n",
       "      <th>SHIPMENT_NUMBER</th>\n",
       "      <th>ITEM_NUMBER</th>\n",
       "      <th>INVOICE_NUMBER</th>\n",
       "      <th>INVOICE_DATE</th>\n",
       "      <th>ORDER_DATE</th>\n",
       "      <th>CUSTOMER_NUMBER</th>\n",
       "      <th>CUSTOMER_LOCATION</th>\n",
       "      <th>CUSTOMER_DEPARTMENT</th>\n",
       "      <th>CUSTOMER_PROVINCE</th>\n",
       "      <th>...</th>\n",
       "      <th>COMPANY_CODE</th>\n",
       "      <th>COMPANY_NAME</th>\n",
       "      <th>COMPANY_NUMBER</th>\n",
       "      <th>AVERAGE_COST_PRICE</th>\n",
       "      <th>SALES_AMOUNT</th>\n",
       "      <th>INVOICE_AMOUNT</th>\n",
       "      <th>COST_PRICE</th>\n",
       "      <th>UPC_NUMBER</th>\n",
       "      <th>PURCHASE_ORDER_NUMBER</th>\n",
       "      <th>ORDER_TYPE</th>\n",
       "    </tr>\n",
       "  </thead>\n",
       "  <tbody>\n",
       "    <tr>\n",
       "      <th>0</th>\n",
       "      <td>6735217</td>\n",
       "      <td>20171129</td>\n",
       "      <td>428714</td>\n",
       "      <td>6735217</td>\n",
       "      <td>20171129</td>\n",
       "      <td>20171128</td>\n",
       "      <td>410</td>\n",
       "      <td>10</td>\n",
       "      <td>9</td>\n",
       "      <td>TEXAS</td>\n",
       "      <td>...</td>\n",
       "      <td>88880</td>\n",
       "      <td>BRANDS GLOBAL CO.</td>\n",
       "      <td>0</td>\n",
       "      <td>0.0</td>\n",
       "      <td>3.36</td>\n",
       "      <td>0.56</td>\n",
       "      <td>0.56</td>\n",
       "      <td>6.224543e+10</td>\n",
       "      <td>0.0</td>\n",
       "      <td>REGULAR</td>\n",
       "    </tr>\n",
       "    <tr>\n",
       "      <th>1</th>\n",
       "      <td>6165708</td>\n",
       "      <td>20190626</td>\n",
       "      <td>408872</td>\n",
       "      <td>6165708</td>\n",
       "      <td>20190626</td>\n",
       "      <td>20190624</td>\n",
       "      <td>1375</td>\n",
       "      <td>1</td>\n",
       "      <td>83</td>\n",
       "      <td>ARIZONA</td>\n",
       "      <td>...</td>\n",
       "      <td>88880</td>\n",
       "      <td>BRANDS GLOBAL CO.</td>\n",
       "      <td>0</td>\n",
       "      <td>0.0</td>\n",
       "      <td>12.00</td>\n",
       "      <td>4.00</td>\n",
       "      <td>4.00</td>\n",
       "      <td>6.224543e+10</td>\n",
       "      <td>0.0</td>\n",
       "      <td>REGULAR</td>\n",
       "    </tr>\n",
       "    <tr>\n",
       "      <th>2</th>\n",
       "      <td>6517073</td>\n",
       "      <td>20180910</td>\n",
       "      <td>354274</td>\n",
       "      <td>6517073</td>\n",
       "      <td>20180910</td>\n",
       "      <td>20180908</td>\n",
       "      <td>2196</td>\n",
       "      <td>1</td>\n",
       "      <td>70</td>\n",
       "      <td>CALIFORNIA</td>\n",
       "      <td>...</td>\n",
       "      <td>88880</td>\n",
       "      <td>BRANDS GLOBAL CO.</td>\n",
       "      <td>0</td>\n",
       "      <td>0.0</td>\n",
       "      <td>7.16</td>\n",
       "      <td>1.79</td>\n",
       "      <td>1.79</td>\n",
       "      <td>6.224543e+10</td>\n",
       "      <td>0.0</td>\n",
       "      <td>REGULAR</td>\n",
       "    </tr>\n",
       "    <tr>\n",
       "      <th>3</th>\n",
       "      <td>6723693</td>\n",
       "      <td>20200513</td>\n",
       "      <td>222679</td>\n",
       "      <td>6723693</td>\n",
       "      <td>20200513</td>\n",
       "      <td>20200509</td>\n",
       "      <td>1934</td>\n",
       "      <td>50</td>\n",
       "      <td>70</td>\n",
       "      <td>ARIZONA</td>\n",
       "      <td>...</td>\n",
       "      <td>88880</td>\n",
       "      <td>BRANDS GLOBAL CO.</td>\n",
       "      <td>0</td>\n",
       "      <td>0.0</td>\n",
       "      <td>19.60</td>\n",
       "      <td>4.90</td>\n",
       "      <td>4.90</td>\n",
       "      <td>6.224543e+10</td>\n",
       "      <td>0.0</td>\n",
       "      <td>REGULAR</td>\n",
       "    </tr>\n",
       "    <tr>\n",
       "      <th>4</th>\n",
       "      <td>6766514</td>\n",
       "      <td>20190128</td>\n",
       "      <td>431999</td>\n",
       "      <td>6766514</td>\n",
       "      <td>20190128</td>\n",
       "      <td>20190125</td>\n",
       "      <td>75379</td>\n",
       "      <td>201</td>\n",
       "      <td>0</td>\n",
       "      <td>TEXAS</td>\n",
       "      <td>...</td>\n",
       "      <td>88880</td>\n",
       "      <td>BRANDS GLOBAL CO.</td>\n",
       "      <td>0</td>\n",
       "      <td>0.0</td>\n",
       "      <td>62.58</td>\n",
       "      <td>10.43</td>\n",
       "      <td>10.43</td>\n",
       "      <td>6.224543e+10</td>\n",
       "      <td>0.0</td>\n",
       "      <td>REGULAR</td>\n",
       "    </tr>\n",
       "    <tr>\n",
       "      <th>...</th>\n",
       "      <td>...</td>\n",
       "      <td>...</td>\n",
       "      <td>...</td>\n",
       "      <td>...</td>\n",
       "      <td>...</td>\n",
       "      <td>...</td>\n",
       "      <td>...</td>\n",
       "      <td>...</td>\n",
       "      <td>...</td>\n",
       "      <td>...</td>\n",
       "      <td>...</td>\n",
       "      <td>...</td>\n",
       "      <td>...</td>\n",
       "      <td>...</td>\n",
       "      <td>...</td>\n",
       "      <td>...</td>\n",
       "      <td>...</td>\n",
       "      <td>...</td>\n",
       "      <td>...</td>\n",
       "      <td>...</td>\n",
       "      <td>...</td>\n",
       "    </tr>\n",
       "    <tr>\n",
       "      <th>9995</th>\n",
       "      <td>5100802</td>\n",
       "      <td>20190403</td>\n",
       "      <td>522110</td>\n",
       "      <td>5100802</td>\n",
       "      <td>20190403</td>\n",
       "      <td>20190329</td>\n",
       "      <td>1560</td>\n",
       "      <td>4</td>\n",
       "      <td>30</td>\n",
       "      <td>MICHIGAN</td>\n",
       "      <td>...</td>\n",
       "      <td>88880</td>\n",
       "      <td>BRANDS GLOBAL CO.</td>\n",
       "      <td>513</td>\n",
       "      <td>0.0</td>\n",
       "      <td>0.00</td>\n",
       "      <td>0.00</td>\n",
       "      <td>0.00</td>\n",
       "      <td>6.210701e+09</td>\n",
       "      <td>0.0</td>\n",
       "      <td>REGULAR</td>\n",
       "    </tr>\n",
       "    <tr>\n",
       "      <th>9996</th>\n",
       "      <td>5462559</td>\n",
       "      <td>20200827</td>\n",
       "      <td>4745048</td>\n",
       "      <td>5462559</td>\n",
       "      <td>20200827</td>\n",
       "      <td>20200825</td>\n",
       "      <td>75161</td>\n",
       "      <td>1</td>\n",
       "      <td>0</td>\n",
       "      <td>MICHIGAN</td>\n",
       "      <td>...</td>\n",
       "      <td>88880</td>\n",
       "      <td>BRANDS GLOBAL CO.</td>\n",
       "      <td>534</td>\n",
       "      <td>0.0</td>\n",
       "      <td>0.00</td>\n",
       "      <td>0.00</td>\n",
       "      <td>0.00</td>\n",
       "      <td>5.209220e+09</td>\n",
       "      <td>0.0</td>\n",
       "      <td>REGULAR</td>\n",
       "    </tr>\n",
       "    <tr>\n",
       "      <th>9997</th>\n",
       "      <td>5165659</td>\n",
       "      <td>20190708</td>\n",
       "      <td>620658</td>\n",
       "      <td>5165659</td>\n",
       "      <td>20190708</td>\n",
       "      <td>20190707</td>\n",
       "      <td>1954</td>\n",
       "      <td>1</td>\n",
       "      <td>62</td>\n",
       "      <td>MICHIGAN</td>\n",
       "      <td>...</td>\n",
       "      <td>88880</td>\n",
       "      <td>BRANDS GLOBAL CO.</td>\n",
       "      <td>528</td>\n",
       "      <td>0.0</td>\n",
       "      <td>0.00</td>\n",
       "      <td>0.00</td>\n",
       "      <td>0.00</td>\n",
       "      <td>5.731616e+09</td>\n",
       "      <td>0.0</td>\n",
       "      <td>REGULAR</td>\n",
       "    </tr>\n",
       "    <tr>\n",
       "      <th>9998</th>\n",
       "      <td>3274935</td>\n",
       "      <td>20200801</td>\n",
       "      <td>177550</td>\n",
       "      <td>3274935</td>\n",
       "      <td>20200801</td>\n",
       "      <td>20200731</td>\n",
       "      <td>2486</td>\n",
       "      <td>4</td>\n",
       "      <td>66</td>\n",
       "      <td>TEXAS</td>\n",
       "      <td>...</td>\n",
       "      <td>88880</td>\n",
       "      <td>BRANDS GLOBAL CO.</td>\n",
       "      <td>0</td>\n",
       "      <td>0.0</td>\n",
       "      <td>0.00</td>\n",
       "      <td>0.00</td>\n",
       "      <td>0.00</td>\n",
       "      <td>7.111761e+09</td>\n",
       "      <td>0.0</td>\n",
       "      <td>REGULAR</td>\n",
       "    </tr>\n",
       "    <tr>\n",
       "      <th>9999</th>\n",
       "      <td>6104799</td>\n",
       "      <td>20201129</td>\n",
       "      <td>398867</td>\n",
       "      <td>6104799</td>\n",
       "      <td>20201129</td>\n",
       "      <td>20201123</td>\n",
       "      <td>15165</td>\n",
       "      <td>1</td>\n",
       "      <td>0</td>\n",
       "      <td>CALIFORNIA</td>\n",
       "      <td>...</td>\n",
       "      <td>72223</td>\n",
       "      <td>THE GROCERY GROUP</td>\n",
       "      <td>0</td>\n",
       "      <td>0.0</td>\n",
       "      <td>0.00</td>\n",
       "      <td>0.00</td>\n",
       "      <td>0.00</td>\n",
       "      <td>6.961842e+09</td>\n",
       "      <td>0.0</td>\n",
       "      <td>REGULAR</td>\n",
       "    </tr>\n",
       "  </tbody>\n",
       "</table>\n",
       "<p>10000 rows × 46 columns</p>\n",
       "</div>"
      ],
      "text/plain": [
       "     ORDER_NUMBER  SHIPMENT_NUMBER  ITEM_NUMBER INVOICE_NUMBER  INVOICE_DATE  \\\n",
       "0         6735217         20171129       428714        6735217      20171129   \n",
       "1         6165708         20190626       408872        6165708      20190626   \n",
       "2         6517073         20180910       354274        6517073      20180910   \n",
       "3         6723693         20200513       222679        6723693      20200513   \n",
       "4         6766514         20190128       431999        6766514      20190128   \n",
       "...           ...              ...          ...            ...           ...   \n",
       "9995      5100802         20190403       522110        5100802      20190403   \n",
       "9996      5462559         20200827      4745048        5462559      20200827   \n",
       "9997      5165659         20190708       620658        5165659      20190708   \n",
       "9998      3274935         20200801       177550        3274935      20200801   \n",
       "9999      6104799         20201129       398867        6104799      20201129   \n",
       "\n",
       "      ORDER_DATE  CUSTOMER_NUMBER  CUSTOMER_LOCATION  CUSTOMER_DEPARTMENT  \\\n",
       "0       20171128              410                 10                    9   \n",
       "1       20190624             1375                  1                   83   \n",
       "2       20180908             2196                  1                   70   \n",
       "3       20200509             1934                 50                   70   \n",
       "4       20190125            75379                201                    0   \n",
       "...          ...              ...                ...                  ...   \n",
       "9995    20190329             1560                  4                   30   \n",
       "9996    20200825            75161                  1                    0   \n",
       "9997    20190707             1954                  1                   62   \n",
       "9998    20200731             2486                  4                   66   \n",
       "9999    20201123            15165                  1                    0   \n",
       "\n",
       "     CUSTOMER_PROVINCE  ... COMPANY_CODE       COMPANY_NAME COMPANY_NUMBER  \\\n",
       "0                TEXAS  ...        88880  BRANDS GLOBAL CO.              0   \n",
       "1              ARIZONA  ...        88880  BRANDS GLOBAL CO.              0   \n",
       "2           CALIFORNIA  ...        88880  BRANDS GLOBAL CO.              0   \n",
       "3              ARIZONA  ...        88880  BRANDS GLOBAL CO.              0   \n",
       "4                TEXAS  ...        88880  BRANDS GLOBAL CO.              0   \n",
       "...                ...  ...          ...                ...            ...   \n",
       "9995          MICHIGAN  ...        88880  BRANDS GLOBAL CO.            513   \n",
       "9996          MICHIGAN  ...        88880  BRANDS GLOBAL CO.            534   \n",
       "9997          MICHIGAN  ...        88880  BRANDS GLOBAL CO.            528   \n",
       "9998             TEXAS  ...        88880  BRANDS GLOBAL CO.              0   \n",
       "9999        CALIFORNIA  ...        72223  THE GROCERY GROUP              0   \n",
       "\n",
       "     AVERAGE_COST_PRICE SALES_AMOUNT  INVOICE_AMOUNT  COST_PRICE  \\\n",
       "0                   0.0         3.36            0.56        0.56   \n",
       "1                   0.0        12.00            4.00        4.00   \n",
       "2                   0.0         7.16            1.79        1.79   \n",
       "3                   0.0        19.60            4.90        4.90   \n",
       "4                   0.0        62.58           10.43       10.43   \n",
       "...                 ...          ...             ...         ...   \n",
       "9995                0.0         0.00            0.00        0.00   \n",
       "9996                0.0         0.00            0.00        0.00   \n",
       "9997                0.0         0.00            0.00        0.00   \n",
       "9998                0.0         0.00            0.00        0.00   \n",
       "9999                0.0         0.00            0.00        0.00   \n",
       "\n",
       "        UPC_NUMBER  PURCHASE_ORDER_NUMBER  ORDER_TYPE  \n",
       "0     6.224543e+10                    0.0     REGULAR  \n",
       "1     6.224543e+10                    0.0     REGULAR  \n",
       "2     6.224543e+10                    0.0     REGULAR  \n",
       "3     6.224543e+10                    0.0     REGULAR  \n",
       "4     6.224543e+10                    0.0     REGULAR  \n",
       "...            ...                    ...         ...  \n",
       "9995  6.210701e+09                    0.0     REGULAR  \n",
       "9996  5.209220e+09                    0.0     REGULAR  \n",
       "9997  5.731616e+09                    0.0     REGULAR  \n",
       "9998  7.111761e+09                    0.0     REGULAR  \n",
       "9999  6.961842e+09                    0.0     REGULAR  \n",
       "\n",
       "[10000 rows x 46 columns]"
      ]
     },
     "execution_count": 2,
     "metadata": {},
     "output_type": "execute_result"
    }
   ],
   "source": [
    "#list of missing value types to be recognised\n",
    "missing_val = ['?','#NAME?']\n",
    "\n",
    "\n",
    "#Reading and converting csv data in to data frame\n",
    "df_retail_sales=pd.read_csv('Project 2 - Retail Sales Dataset.csv',skipinitialspace = True, na_values = missing_val)\n",
    "df_retail_sales"
   ]
  },
  {
   "cell_type": "markdown",
   "id": "3a0ffb65",
   "metadata": {},
   "source": [
    "Column headings, total number of rows and columns, data type of each column, total memory usage and the count of non-null values of each column of this dataset was analysed using the info() method. "
   ]
  },
  {
   "cell_type": "code",
   "execution_count": 3,
   "id": "e6e4c872",
   "metadata": {},
   "outputs": [
    {
     "name": "stdout",
     "output_type": "stream",
     "text": [
      "<class 'pandas.core.frame.DataFrame'>\n",
      "RangeIndex: 10000 entries, 0 to 9999\n",
      "Data columns (total 46 columns):\n",
      " #   Column                      Non-Null Count  Dtype  \n",
      "---  ------                      --------------  -----  \n",
      " 0   ORDER_NUMBER                10000 non-null  object \n",
      " 1   SHIPMENT_NUMBER             10000 non-null  int64  \n",
      " 2   ITEM_NUMBER                 10000 non-null  int64  \n",
      " 3   INVOICE_NUMBER              10000 non-null  object \n",
      " 4   INVOICE_DATE                10000 non-null  int64  \n",
      " 5   ORDER_DATE                  10000 non-null  int64  \n",
      " 6   CUSTOMER_NUMBER             10000 non-null  int64  \n",
      " 7   CUSTOMER_LOCATION           10000 non-null  int64  \n",
      " 8   CUSTOMER_DEPARTMENT         10000 non-null  int64  \n",
      " 9   CUSTOMER_PROVINCE           9948 non-null   object \n",
      " 10  ITEM_DESCRIPTION            9928 non-null   object \n",
      " 11  SHIPPING_REGION_IDENTIFIER  10000 non-null  int64  \n",
      " 12  SHIPPING_REGION_CODE        10000 non-null  object \n",
      " 13  SHIPPING_REGION_NAME        10000 non-null  object \n",
      " 14  SHIPPING_UNIT_MEASURE       10000 non-null  object \n",
      " 15  SHIPPING_PACK_QUANTITY      10000 non-null  int64  \n",
      " 16  ITEM_UNIT_QUANTITY          10000 non-null  float64\n",
      " 17  ITEM_DEPARTMENT             10000 non-null  int64  \n",
      " 18  ITEM_SECTION                10000 non-null  int64  \n",
      " 19  ITEM_SECTION_MODULE         10000 non-null  int64  \n",
      " 20  ITEM_GROUP                  10000 non-null  int64  \n",
      " 21  ITEM_SEQUENCE               10000 non-null  int64  \n",
      " 22  ITEM_STOCK_STATUS           9948 non-null   object \n",
      " 23  WAREHOUSE_IDENTIFIER        10000 non-null  int64  \n",
      " 24  WAREHOUSE_NUMBER            10000 non-null  int64  \n",
      " 25  WAREHOUSE_NAME              10000 non-null  object \n",
      " 26  WAREHOUSE_REGION_NAME       10000 non-null  object \n",
      " 27  VENDOR_IDENTIFIER           10000 non-null  int64  \n",
      " 28  VENDOR_NUMBER               9426 non-null   float64\n",
      " 29  VENDOR_NAME                 9426 non-null   object \n",
      " 30  VENDOR_CITY                 7905 non-null   object \n",
      " 31  VENDOR_COUNTRY              7905 non-null   object \n",
      " 32  VENDOR_ADDRESS              7905 non-null   object \n",
      " 33  ORDER_QUANTITY              10000 non-null  int64  \n",
      " 34  SHIPPED_QUANTITY            10000 non-null  int64  \n",
      " 35  COMPANY_IDENTIFIER          10000 non-null  int64  \n",
      " 36  COMPANY_CODE                10000 non-null  int64  \n",
      " 37  COMPANY_NAME                10000 non-null  object \n",
      " 38  COMPANY_NUMBER              10000 non-null  int64  \n",
      " 39  AVERAGE_COST_PRICE          10000 non-null  float64\n",
      " 40  SALES_AMOUNT                10000 non-null  float64\n",
      " 41  INVOICE_AMOUNT              10000 non-null  float64\n",
      " 42  COST_PRICE                  10000 non-null  float64\n",
      " 43  UPC_NUMBER                  10000 non-null  float64\n",
      " 44  PURCHASE_ORDER_NUMBER       9993 non-null   float64\n",
      " 45  ORDER_TYPE                  10000 non-null  object \n",
      "dtypes: float64(8), int64(22), object(16)\n",
      "memory usage: 3.5+ MB\n"
     ]
    }
   ],
   "source": [
    "#Summary of the dataframe\n",
    "df_retail_sales.info()"
   ]
  },
  {
   "cell_type": "markdown",
   "id": "347e52dd",
   "metadata": {},
   "source": [
    "The results of info() method showed that there are null values in some of the columns in the dataset, so the isnull().sum() method was used to get a count of the null values of each column. "
   ]
  },
  {
   "cell_type": "code",
   "execution_count": 4,
   "id": "e13f4253",
   "metadata": {},
   "outputs": [
    {
     "data": {
      "text/plain": [
       "ORDER_NUMBER                     0\n",
       "SHIPMENT_NUMBER                  0\n",
       "ITEM_NUMBER                      0\n",
       "INVOICE_NUMBER                   0\n",
       "INVOICE_DATE                     0\n",
       "ORDER_DATE                       0\n",
       "CUSTOMER_NUMBER                  0\n",
       "CUSTOMER_LOCATION                0\n",
       "CUSTOMER_DEPARTMENT              0\n",
       "CUSTOMER_PROVINCE               52\n",
       "ITEM_DESCRIPTION                72\n",
       "SHIPPING_REGION_IDENTIFIER       0\n",
       "SHIPPING_REGION_CODE             0\n",
       "SHIPPING_REGION_NAME             0\n",
       "SHIPPING_UNIT_MEASURE            0\n",
       "SHIPPING_PACK_QUANTITY           0\n",
       "ITEM_UNIT_QUANTITY               0\n",
       "ITEM_DEPARTMENT                  0\n",
       "ITEM_SECTION                     0\n",
       "ITEM_SECTION_MODULE              0\n",
       "ITEM_GROUP                       0\n",
       "ITEM_SEQUENCE                    0\n",
       "ITEM_STOCK_STATUS               52\n",
       "WAREHOUSE_IDENTIFIER             0\n",
       "WAREHOUSE_NUMBER                 0\n",
       "WAREHOUSE_NAME                   0\n",
       "WAREHOUSE_REGION_NAME            0\n",
       "VENDOR_IDENTIFIER                0\n",
       "VENDOR_NUMBER                  574\n",
       "VENDOR_NAME                    574\n",
       "VENDOR_CITY                   2095\n",
       "VENDOR_COUNTRY                2095\n",
       "VENDOR_ADDRESS                2095\n",
       "ORDER_QUANTITY                   0\n",
       "SHIPPED_QUANTITY                 0\n",
       "COMPANY_IDENTIFIER               0\n",
       "COMPANY_CODE                     0\n",
       "COMPANY_NAME                     0\n",
       "COMPANY_NUMBER                   0\n",
       "AVERAGE_COST_PRICE               0\n",
       "SALES_AMOUNT                     0\n",
       "INVOICE_AMOUNT                   0\n",
       "COST_PRICE                       0\n",
       "UPC_NUMBER                       0\n",
       "PURCHASE_ORDER_NUMBER            7\n",
       "ORDER_TYPE                       0\n",
       "dtype: int64"
      ]
     },
     "execution_count": 4,
     "metadata": {},
     "output_type": "execute_result"
    }
   ],
   "source": [
    "#Checking for any null Values\n",
    "df_retail_sales.isnull().sum()"
   ]
  },
  {
   "cell_type": "markdown",
   "id": "e59f3317",
   "metadata": {},
   "source": [
    "There were 574 missing values for VENDOR_NAME and VENDOR_NUMBER columns. However, VENDOR_IDENTIFIER had no null values so it was decided that for further study VENDOR_IDENTIFIER will be used as it served the same purpose of vendor identification.  "
   ]
  },
  {
   "cell_type": "markdown",
   "id": "b773ac2a",
   "metadata": {},
   "source": [
    "VENDOR_CITY, VENDOR_COUNTRY, VENDOR_ADDRESS columns were decided to be dropped as these had 2,095 null values for each. Also, it was decided that a detailed vendor analysis will not be done in this study."
   ]
  },
  {
   "cell_type": "markdown",
   "id": "971a2ae0",
   "metadata": {},
   "source": [
    "52 rows had missing (blank) ITEM_STOCK_STATUS as well as for CUSTOMER_PROVINCE so these rows were dropped as it was only 0.52% of the total number of rows. Then the effect of this on the data set was checked using the .shape property of pandas library. The total number of rows were then reduced to 9948."
   ]
  },
  {
   "cell_type": "code",
   "execution_count": 5,
   "id": "50d03d22",
   "metadata": {},
   "outputs": [
    {
     "data": {
      "text/plain": [
       "(9948, 46)"
      ]
     },
     "execution_count": 5,
     "metadata": {},
     "output_type": "execute_result"
    }
   ],
   "source": [
    "#Removing null values in certain columns\n",
    "df_new = df_retail_sales.dropna(subset = [\"CUSTOMER_PROVINCE\",\"ITEM_STOCK_STATUS\"])\n",
    "df_new\n",
    "\n",
    "#Shape of the new dataframe after removing null values\n",
    "df_new.shape"
   ]
  },
  {
   "cell_type": "markdown",
   "id": "27e1dd14",
   "metadata": {},
   "source": [
    "ITEM_DESCIPTION had 72 null values but when checking for values in that column, it was found that the descriptions were complicated with numbers, letters and even symbols. It also had so many unique values.  So, it was decided that this column may not be used in visualisations. "
   ]
  },
  {
   "cell_type": "code",
   "execution_count": 6,
   "id": "791e8654",
   "metadata": {},
   "outputs": [
    {
     "data": {
      "text/plain": [
       "array(['600890 1-1/2 IN 45 DEG ELB(027241) ',\n",
       "       'ABS COUPLER REDUCER 4 X 3-IN       ',\n",
       "       'ABS TRAP ADAPTER MPT 1-1/2X1-1/4   ', ...,\n",
       "       'SWISS EMMENTHAL- 3.3 KG            ',\n",
       "       'FOIL CAKE PAN & LID SQUARE 8-IN 3PK',\n",
       "       'CARE+ P/LINER EXT COVERGE CONTOUR  '], dtype=object)"
      ]
     },
     "execution_count": 6,
     "metadata": {},
     "output_type": "execute_result"
    }
   ],
   "source": [
    "df_retail_sales.ITEM_DESCRIPTION.unique()"
   ]
  },
  {
   "cell_type": "code",
   "execution_count": 7,
   "id": "c33604fe",
   "metadata": {},
   "outputs": [
    {
     "data": {
      "text/plain": [
       "6706"
      ]
     },
     "execution_count": 7,
     "metadata": {},
     "output_type": "execute_result"
    }
   ],
   "source": [
    "df_retail_sales.ITEM_DESCRIPTION.nunique()"
   ]
  },
  {
   "cell_type": "markdown",
   "id": "9a57eeb4",
   "metadata": {},
   "source": [
    "Instead, it was decided that ITEM_DEPARTMENT will be used in visualisations regarding products, as it had no null values and it had categorical data with all products classified as 5 department numbers."
   ]
  },
  {
   "cell_type": "code",
   "execution_count": 8,
   "id": "7c6b4bc6",
   "metadata": {},
   "outputs": [
    {
     "data": {
      "text/plain": [
       "5"
      ]
     },
     "execution_count": 8,
     "metadata": {},
     "output_type": "execute_result"
    }
   ],
   "source": [
    "df_retail_sales.ITEM_DEPARTMENT.nunique()"
   ]
  },
  {
   "cell_type": "code",
   "execution_count": 9,
   "id": "1be789d9",
   "metadata": {},
   "outputs": [
    {
     "data": {
      "text/plain": [
       "array([40, 30, 20,  0, 10], dtype=int64)"
      ]
     },
     "execution_count": 9,
     "metadata": {},
     "output_type": "execute_result"
    }
   ],
   "source": [
    "df_retail_sales.ITEM_DEPARTMENT.unique()"
   ]
  },
  {
   "cell_type": "markdown",
   "id": "71077ddc",
   "metadata": {},
   "source": [
    "Few other columns relating to product identification such as ITEM_SECTION, ITEM_NUMBER these were not planned to be used in further study since there were many unique values in each of those columns as shown below. "
   ]
  },
  {
   "cell_type": "code",
   "execution_count": 10,
   "id": "bbf0385b",
   "metadata": {},
   "outputs": [
    {
     "data": {
      "text/plain": [
       "6704"
      ]
     },
     "execution_count": 10,
     "metadata": {},
     "output_type": "execute_result"
    }
   ],
   "source": [
    "df_retail_sales.ITEM_NUMBER.nunique()"
   ]
  },
  {
   "cell_type": "code",
   "execution_count": 11,
   "id": "f7c7d97d",
   "metadata": {},
   "outputs": [
    {
     "data": {
      "text/plain": [
       "76"
      ]
     },
     "execution_count": 11,
     "metadata": {},
     "output_type": "execute_result"
    }
   ],
   "source": [
    "df_retail_sales.ITEM_SECTION.nunique()"
   ]
  },
  {
   "cell_type": "code",
   "execution_count": 12,
   "id": "1335a35e",
   "metadata": {},
   "outputs": [
    {
     "data": {
      "text/plain": [
       "72"
      ]
     },
     "execution_count": 12,
     "metadata": {},
     "output_type": "execute_result"
    }
   ],
   "source": [
    "df_retail_sales.ITEM_SECTION_MODULE.nunique()"
   ]
  },
  {
   "cell_type": "code",
   "execution_count": 13,
   "id": "5d5fdb8c",
   "metadata": {},
   "outputs": [
    {
     "data": {
      "text/plain": [
       "760"
      ]
     },
     "execution_count": 13,
     "metadata": {},
     "output_type": "execute_result"
    }
   ],
   "source": [
    "df_retail_sales.ITEM_GROUP.nunique() "
   ]
  },
  {
   "cell_type": "code",
   "execution_count": 14,
   "id": "81f3c54e",
   "metadata": {},
   "outputs": [
    {
     "data": {
      "text/plain": [
       "627"
      ]
     },
     "execution_count": 14,
     "metadata": {},
     "output_type": "execute_result"
    }
   ],
   "source": [
    "df_retail_sales.ITEM_SEQUENCE.nunique() "
   ]
  },
  {
   "cell_type": "code",
   "execution_count": 15,
   "id": "63d702e0",
   "metadata": {},
   "outputs": [
    {
     "data": {
      "text/plain": [
       "1290"
      ]
     },
     "execution_count": 15,
     "metadata": {},
     "output_type": "execute_result"
    }
   ],
   "source": [
    "df_retail_sales.VENDOR_IDENTIFIER.nunique() "
   ]
  },
  {
   "cell_type": "code",
   "execution_count": 16,
   "id": "08a8e5c7",
   "metadata": {},
   "outputs": [
    {
     "data": {
      "text/plain": [
       "array(['FLORIDA', 'OHIO', 'TEXAS', 'MISSOURI'], dtype=object)"
      ]
     },
     "execution_count": 16,
     "metadata": {},
     "output_type": "execute_result"
    }
   ],
   "source": [
    "df_retail_sales.SHIPPING_REGION_NAME.unique() "
   ]
  },
  {
   "cell_type": "code",
   "execution_count": 17,
   "id": "61cd05ba",
   "metadata": {},
   "outputs": [
    {
     "data": {
      "text/plain": [
       "array(['BRANDS GLOBAL CO.', 'THE GROCERY GROUP', 'THE PRODUCE CLUB'],\n",
       "      dtype=object)"
      ]
     },
     "execution_count": 17,
     "metadata": {},
     "output_type": "execute_result"
    }
   ],
   "source": [
    "df_retail_sales.COMPANY_NAME.unique() "
   ]
  },
  {
   "cell_type": "markdown",
   "id": "fe845f44",
   "metadata": {},
   "source": [
    "PURCHASE_ORDER_NUMBER had 7 missing values, but it was an irrelevant column for visualization purposes so that whole column was dropped. INVOICE_NUMBER were irrelevant for visualisation as well, so this column was also dropped. "
   ]
  },
  {
   "cell_type": "markdown",
   "id": "8920d5e3",
   "metadata": {},
   "source": [
    "There were different ways of identification for different categories such as shipping region, warehouses, company, and vendor. For shipping region identification, we thought that the SHIPPING_REGION_NAME is ideal as it had four unique values only and had no null values. \n",
    "\n",
    "So, SHIPPING_REGION_IDENTIFIER, SHIPPING_REGION_CODE columns were decided to be dropped. Similarly, COMPANY_IDENTIFIER, COMPANY_CODE, COMPANY_NUMBER were dopped as COMPANY_NAME served the best for company identification with three unique values and no null values. "
   ]
  },
  {
   "cell_type": "code",
   "execution_count": 18,
   "id": "7d982cec",
   "metadata": {},
   "outputs": [
    {
     "name": "stderr",
     "output_type": "stream",
     "text": [
      "C:\\Users\\User\\AppData\\Local\\Temp\\ipykernel_5876\\1356719526.py:2: SettingWithCopyWarning: \n",
      "A value is trying to be set on a copy of a slice from a DataFrame\n",
      "\n",
      "See the caveats in the documentation: https://pandas.pydata.org/pandas-docs/stable/user_guide/indexing.html#returning-a-view-versus-a-copy\n",
      "  df_new.drop([\"INVOICE_NUMBER\",\"ITEM_DESCRIPTION\",\"SHIPPING_REGION_IDENTIFIER\",\"SHIPPING_REGION_CODE\",\"WAREHOUSE_IDENTIFIER\",\n"
     ]
    }
   ],
   "source": [
    "#Removing certain columns that are not relevant\n",
    "df_new.drop([\"INVOICE_NUMBER\",\"ITEM_DESCRIPTION\",\"SHIPPING_REGION_IDENTIFIER\",\"SHIPPING_REGION_CODE\",\"WAREHOUSE_IDENTIFIER\",\n",
    "             \"WAREHOUSE_NUMBER\",\"COMPANY_IDENTIFIER\",\"COMPANY_CODE\",\"COMPANY_NUMBER\",\"VENDOR_NUMBER\",\"VENDOR_ADDRESS\",\n",
    "             \"PURCHASE_ORDER_NUMBER\"],axis=1,inplace=True)"
   ]
  },
  {
   "cell_type": "code",
   "execution_count": 19,
   "id": "adc54177",
   "metadata": {},
   "outputs": [
    {
     "data": {
      "text/plain": [
       "(9948, 34)"
      ]
     },
     "execution_count": 19,
     "metadata": {},
     "output_type": "execute_result"
    }
   ],
   "source": [
    "df_new.shape"
   ]
  },
  {
   "cell_type": "code",
   "execution_count": 20,
   "id": "c199ca1d",
   "metadata": {},
   "outputs": [
    {
     "data": {
      "text/html": [
       "<div>\n",
       "<style scoped>\n",
       "    .dataframe tbody tr th:only-of-type {\n",
       "        vertical-align: middle;\n",
       "    }\n",
       "\n",
       "    .dataframe tbody tr th {\n",
       "        vertical-align: top;\n",
       "    }\n",
       "\n",
       "    .dataframe thead th {\n",
       "        text-align: right;\n",
       "    }\n",
       "</style>\n",
       "<table border=\"1\" class=\"dataframe\">\n",
       "  <thead>\n",
       "    <tr style=\"text-align: right;\">\n",
       "      <th></th>\n",
       "      <th>ORDER_NUMBER</th>\n",
       "      <th>SHIPMENT_NUMBER</th>\n",
       "      <th>ITEM_NUMBER</th>\n",
       "      <th>INVOICE_DATE</th>\n",
       "      <th>ORDER_DATE</th>\n",
       "      <th>CUSTOMER_NUMBER</th>\n",
       "      <th>CUSTOMER_LOCATION</th>\n",
       "      <th>CUSTOMER_DEPARTMENT</th>\n",
       "      <th>CUSTOMER_PROVINCE</th>\n",
       "      <th>SHIPPING_REGION_NAME</th>\n",
       "      <th>...</th>\n",
       "      <th>VENDOR_COUNTRY</th>\n",
       "      <th>ORDER_QUANTITY</th>\n",
       "      <th>SHIPPED_QUANTITY</th>\n",
       "      <th>COMPANY_NAME</th>\n",
       "      <th>AVERAGE_COST_PRICE</th>\n",
       "      <th>SALES_AMOUNT</th>\n",
       "      <th>INVOICE_AMOUNT</th>\n",
       "      <th>COST_PRICE</th>\n",
       "      <th>UPC_NUMBER</th>\n",
       "      <th>ORDER_TYPE</th>\n",
       "    </tr>\n",
       "  </thead>\n",
       "  <tbody>\n",
       "    <tr>\n",
       "      <th>0</th>\n",
       "      <td>6735217</td>\n",
       "      <td>20171129</td>\n",
       "      <td>428714</td>\n",
       "      <td>20171129</td>\n",
       "      <td>20171128</td>\n",
       "      <td>410</td>\n",
       "      <td>10</td>\n",
       "      <td>9</td>\n",
       "      <td>TEXAS</td>\n",
       "      <td>FLORIDA</td>\n",
       "      <td>...</td>\n",
       "      <td>US</td>\n",
       "      <td>6</td>\n",
       "      <td>6</td>\n",
       "      <td>BRANDS GLOBAL CO.</td>\n",
       "      <td>0.0</td>\n",
       "      <td>3.36</td>\n",
       "      <td>0.56</td>\n",
       "      <td>0.56</td>\n",
       "      <td>6.224543e+10</td>\n",
       "      <td>REGULAR</td>\n",
       "    </tr>\n",
       "    <tr>\n",
       "      <th>1</th>\n",
       "      <td>6165708</td>\n",
       "      <td>20190626</td>\n",
       "      <td>408872</td>\n",
       "      <td>20190626</td>\n",
       "      <td>20190624</td>\n",
       "      <td>1375</td>\n",
       "      <td>1</td>\n",
       "      <td>83</td>\n",
       "      <td>ARIZONA</td>\n",
       "      <td>FLORIDA</td>\n",
       "      <td>...</td>\n",
       "      <td>US</td>\n",
       "      <td>3</td>\n",
       "      <td>3</td>\n",
       "      <td>BRANDS GLOBAL CO.</td>\n",
       "      <td>0.0</td>\n",
       "      <td>12.00</td>\n",
       "      <td>4.00</td>\n",
       "      <td>4.00</td>\n",
       "      <td>6.224543e+10</td>\n",
       "      <td>REGULAR</td>\n",
       "    </tr>\n",
       "    <tr>\n",
       "      <th>2</th>\n",
       "      <td>6517073</td>\n",
       "      <td>20180910</td>\n",
       "      <td>354274</td>\n",
       "      <td>20180910</td>\n",
       "      <td>20180908</td>\n",
       "      <td>2196</td>\n",
       "      <td>1</td>\n",
       "      <td>70</td>\n",
       "      <td>CALIFORNIA</td>\n",
       "      <td>FLORIDA</td>\n",
       "      <td>...</td>\n",
       "      <td>US</td>\n",
       "      <td>4</td>\n",
       "      <td>4</td>\n",
       "      <td>BRANDS GLOBAL CO.</td>\n",
       "      <td>0.0</td>\n",
       "      <td>7.16</td>\n",
       "      <td>1.79</td>\n",
       "      <td>1.79</td>\n",
       "      <td>6.224543e+10</td>\n",
       "      <td>REGULAR</td>\n",
       "    </tr>\n",
       "    <tr>\n",
       "      <th>3</th>\n",
       "      <td>6723693</td>\n",
       "      <td>20200513</td>\n",
       "      <td>222679</td>\n",
       "      <td>20200513</td>\n",
       "      <td>20200509</td>\n",
       "      <td>1934</td>\n",
       "      <td>50</td>\n",
       "      <td>70</td>\n",
       "      <td>ARIZONA</td>\n",
       "      <td>FLORIDA</td>\n",
       "      <td>...</td>\n",
       "      <td>US</td>\n",
       "      <td>4</td>\n",
       "      <td>4</td>\n",
       "      <td>BRANDS GLOBAL CO.</td>\n",
       "      <td>0.0</td>\n",
       "      <td>19.60</td>\n",
       "      <td>4.90</td>\n",
       "      <td>4.90</td>\n",
       "      <td>6.224543e+10</td>\n",
       "      <td>REGULAR</td>\n",
       "    </tr>\n",
       "    <tr>\n",
       "      <th>4</th>\n",
       "      <td>6766514</td>\n",
       "      <td>20190128</td>\n",
       "      <td>431999</td>\n",
       "      <td>20190128</td>\n",
       "      <td>20190125</td>\n",
       "      <td>75379</td>\n",
       "      <td>201</td>\n",
       "      <td>0</td>\n",
       "      <td>TEXAS</td>\n",
       "      <td>FLORIDA</td>\n",
       "      <td>...</td>\n",
       "      <td>US</td>\n",
       "      <td>6</td>\n",
       "      <td>6</td>\n",
       "      <td>BRANDS GLOBAL CO.</td>\n",
       "      <td>0.0</td>\n",
       "      <td>62.58</td>\n",
       "      <td>10.43</td>\n",
       "      <td>10.43</td>\n",
       "      <td>6.224543e+10</td>\n",
       "      <td>REGULAR</td>\n",
       "    </tr>\n",
       "  </tbody>\n",
       "</table>\n",
       "<p>5 rows × 34 columns</p>\n",
       "</div>"
      ],
      "text/plain": [
       "  ORDER_NUMBER  SHIPMENT_NUMBER  ITEM_NUMBER  INVOICE_DATE  ORDER_DATE  \\\n",
       "0      6735217         20171129       428714      20171129    20171128   \n",
       "1      6165708         20190626       408872      20190626    20190624   \n",
       "2      6517073         20180910       354274      20180910    20180908   \n",
       "3      6723693         20200513       222679      20200513    20200509   \n",
       "4      6766514         20190128       431999      20190128    20190125   \n",
       "\n",
       "   CUSTOMER_NUMBER  CUSTOMER_LOCATION  CUSTOMER_DEPARTMENT CUSTOMER_PROVINCE  \\\n",
       "0              410                 10                    9             TEXAS   \n",
       "1             1375                  1                   83           ARIZONA   \n",
       "2             2196                  1                   70        CALIFORNIA   \n",
       "3             1934                 50                   70           ARIZONA   \n",
       "4            75379                201                    0             TEXAS   \n",
       "\n",
       "  SHIPPING_REGION_NAME  ... VENDOR_COUNTRY  ORDER_QUANTITY  SHIPPED_QUANTITY  \\\n",
       "0              FLORIDA  ...             US               6                 6   \n",
       "1              FLORIDA  ...             US               3                 3   \n",
       "2              FLORIDA  ...             US               4                 4   \n",
       "3              FLORIDA  ...             US               4                 4   \n",
       "4              FLORIDA  ...             US               6                 6   \n",
       "\n",
       "        COMPANY_NAME  AVERAGE_COST_PRICE  SALES_AMOUNT  INVOICE_AMOUNT  \\\n",
       "0  BRANDS GLOBAL CO.                 0.0          3.36            0.56   \n",
       "1  BRANDS GLOBAL CO.                 0.0         12.00            4.00   \n",
       "2  BRANDS GLOBAL CO.                 0.0          7.16            1.79   \n",
       "3  BRANDS GLOBAL CO.                 0.0         19.60            4.90   \n",
       "4  BRANDS GLOBAL CO.                 0.0         62.58           10.43   \n",
       "\n",
       "   COST_PRICE    UPC_NUMBER ORDER_TYPE  \n",
       "0        0.56  6.224543e+10    REGULAR  \n",
       "1        4.00  6.224543e+10    REGULAR  \n",
       "2        1.79  6.224543e+10    REGULAR  \n",
       "3        4.90  6.224543e+10    REGULAR  \n",
       "4       10.43  6.224543e+10    REGULAR  \n",
       "\n",
       "[5 rows x 34 columns]"
      ]
     },
     "execution_count": 20,
     "metadata": {},
     "output_type": "execute_result"
    }
   ],
   "source": [
    "#to see first few rows \n",
    "df_new.head()"
   ]
  },
  {
   "cell_type": "markdown",
   "id": "404ee2d2",
   "metadata": {},
   "source": [
    "## Checking for any inconsistencies in Ware house name and Ware house Region Name"
   ]
  },
  {
   "cell_type": "code",
   "execution_count": 21,
   "id": "ca9d52ef",
   "metadata": {},
   "outputs": [
    {
     "data": {
      "text/plain": [
       "[]"
      ]
     },
     "execution_count": 21,
     "metadata": {},
     "output_type": "execute_result"
    }
   ],
   "source": [
    "warehouse_list = list(zip(df_new[\"WAREHOUSE_NAME\"].values, df_new[\"WAREHOUSE_REGION_NAME\"].values))\n",
    "\n",
    "inconsistent = []\n",
    "warehouse_dict = {}\n",
    "\n",
    "for name, region in warehouse_list:\n",
    "    \n",
    "  if name not in warehouse_dict:\n",
    "    warehouse_dict[name] = region\n",
    "  else:\n",
    "    if warehouse_dict[name] != region:\n",
    "      inconsistent.append(name)\n",
    "    \n",
    "#Checking if there are any inconsistent records in the inconsistent list\n",
    "inconsistent"
   ]
  },
  {
   "cell_type": "markdown",
   "id": "e168a29b",
   "metadata": {},
   "source": [
    "There were no inconsistencies. "
   ]
  },
  {
   "cell_type": "markdown",
   "id": "fa3aa77a",
   "metadata": {},
   "source": [
    "## Change date columns to date format"
   ]
  },
  {
   "cell_type": "markdown",
   "id": "245bdd2f",
   "metadata": {},
   "source": [
    "Some of the columns with date was not in the date format but just integer format. These were changed to date format below. "
   ]
  },
  {
   "cell_type": "code",
   "execution_count": 22,
   "id": "9acca897",
   "metadata": {},
   "outputs": [],
   "source": [
    "#Converting date columns to date time format\n",
    "df_retail_sales['INVOICE_DATE']= pd.to_datetime(df_retail_sales['INVOICE_DATE'],format='%Y%m%d')\n",
    "df_retail_sales['ORDER_DATE']= pd.to_datetime(df_retail_sales['ORDER_DATE'],format='%Y%m%d')"
   ]
  },
  {
   "cell_type": "code",
   "execution_count": 23,
   "id": "a0783395",
   "metadata": {},
   "outputs": [
    {
     "data": {
      "text/html": [
       "<div>\n",
       "<style scoped>\n",
       "    .dataframe tbody tr th:only-of-type {\n",
       "        vertical-align: middle;\n",
       "    }\n",
       "\n",
       "    .dataframe tbody tr th {\n",
       "        vertical-align: top;\n",
       "    }\n",
       "\n",
       "    .dataframe thead th {\n",
       "        text-align: right;\n",
       "    }\n",
       "</style>\n",
       "<table border=\"1\" class=\"dataframe\">\n",
       "  <thead>\n",
       "    <tr style=\"text-align: right;\">\n",
       "      <th></th>\n",
       "      <th>ORDER_NUMBER</th>\n",
       "      <th>SHIPMENT_NUMBER</th>\n",
       "      <th>ITEM_NUMBER</th>\n",
       "      <th>INVOICE_NUMBER</th>\n",
       "      <th>INVOICE_DATE</th>\n",
       "      <th>ORDER_DATE</th>\n",
       "      <th>CUSTOMER_NUMBER</th>\n",
       "      <th>CUSTOMER_LOCATION</th>\n",
       "      <th>CUSTOMER_DEPARTMENT</th>\n",
       "      <th>CUSTOMER_PROVINCE</th>\n",
       "      <th>...</th>\n",
       "      <th>COMPANY_CODE</th>\n",
       "      <th>COMPANY_NAME</th>\n",
       "      <th>COMPANY_NUMBER</th>\n",
       "      <th>AVERAGE_COST_PRICE</th>\n",
       "      <th>SALES_AMOUNT</th>\n",
       "      <th>INVOICE_AMOUNT</th>\n",
       "      <th>COST_PRICE</th>\n",
       "      <th>UPC_NUMBER</th>\n",
       "      <th>PURCHASE_ORDER_NUMBER</th>\n",
       "      <th>ORDER_TYPE</th>\n",
       "    </tr>\n",
       "  </thead>\n",
       "  <tbody>\n",
       "    <tr>\n",
       "      <th>0</th>\n",
       "      <td>6735217</td>\n",
       "      <td>20171129</td>\n",
       "      <td>428714</td>\n",
       "      <td>6735217</td>\n",
       "      <td>2017-11-29</td>\n",
       "      <td>2017-11-28</td>\n",
       "      <td>410</td>\n",
       "      <td>10</td>\n",
       "      <td>9</td>\n",
       "      <td>TEXAS</td>\n",
       "      <td>...</td>\n",
       "      <td>88880</td>\n",
       "      <td>BRANDS GLOBAL CO.</td>\n",
       "      <td>0</td>\n",
       "      <td>0.0</td>\n",
       "      <td>3.36</td>\n",
       "      <td>0.56</td>\n",
       "      <td>0.56</td>\n",
       "      <td>6.224543e+10</td>\n",
       "      <td>0.0</td>\n",
       "      <td>REGULAR</td>\n",
       "    </tr>\n",
       "    <tr>\n",
       "      <th>1</th>\n",
       "      <td>6165708</td>\n",
       "      <td>20190626</td>\n",
       "      <td>408872</td>\n",
       "      <td>6165708</td>\n",
       "      <td>2019-06-26</td>\n",
       "      <td>2019-06-24</td>\n",
       "      <td>1375</td>\n",
       "      <td>1</td>\n",
       "      <td>83</td>\n",
       "      <td>ARIZONA</td>\n",
       "      <td>...</td>\n",
       "      <td>88880</td>\n",
       "      <td>BRANDS GLOBAL CO.</td>\n",
       "      <td>0</td>\n",
       "      <td>0.0</td>\n",
       "      <td>12.00</td>\n",
       "      <td>4.00</td>\n",
       "      <td>4.00</td>\n",
       "      <td>6.224543e+10</td>\n",
       "      <td>0.0</td>\n",
       "      <td>REGULAR</td>\n",
       "    </tr>\n",
       "    <tr>\n",
       "      <th>2</th>\n",
       "      <td>6517073</td>\n",
       "      <td>20180910</td>\n",
       "      <td>354274</td>\n",
       "      <td>6517073</td>\n",
       "      <td>2018-09-10</td>\n",
       "      <td>2018-09-08</td>\n",
       "      <td>2196</td>\n",
       "      <td>1</td>\n",
       "      <td>70</td>\n",
       "      <td>CALIFORNIA</td>\n",
       "      <td>...</td>\n",
       "      <td>88880</td>\n",
       "      <td>BRANDS GLOBAL CO.</td>\n",
       "      <td>0</td>\n",
       "      <td>0.0</td>\n",
       "      <td>7.16</td>\n",
       "      <td>1.79</td>\n",
       "      <td>1.79</td>\n",
       "      <td>6.224543e+10</td>\n",
       "      <td>0.0</td>\n",
       "      <td>REGULAR</td>\n",
       "    </tr>\n",
       "    <tr>\n",
       "      <th>3</th>\n",
       "      <td>6723693</td>\n",
       "      <td>20200513</td>\n",
       "      <td>222679</td>\n",
       "      <td>6723693</td>\n",
       "      <td>2020-05-13</td>\n",
       "      <td>2020-05-09</td>\n",
       "      <td>1934</td>\n",
       "      <td>50</td>\n",
       "      <td>70</td>\n",
       "      <td>ARIZONA</td>\n",
       "      <td>...</td>\n",
       "      <td>88880</td>\n",
       "      <td>BRANDS GLOBAL CO.</td>\n",
       "      <td>0</td>\n",
       "      <td>0.0</td>\n",
       "      <td>19.60</td>\n",
       "      <td>4.90</td>\n",
       "      <td>4.90</td>\n",
       "      <td>6.224543e+10</td>\n",
       "      <td>0.0</td>\n",
       "      <td>REGULAR</td>\n",
       "    </tr>\n",
       "    <tr>\n",
       "      <th>4</th>\n",
       "      <td>6766514</td>\n",
       "      <td>20190128</td>\n",
       "      <td>431999</td>\n",
       "      <td>6766514</td>\n",
       "      <td>2019-01-28</td>\n",
       "      <td>2019-01-25</td>\n",
       "      <td>75379</td>\n",
       "      <td>201</td>\n",
       "      <td>0</td>\n",
       "      <td>TEXAS</td>\n",
       "      <td>...</td>\n",
       "      <td>88880</td>\n",
       "      <td>BRANDS GLOBAL CO.</td>\n",
       "      <td>0</td>\n",
       "      <td>0.0</td>\n",
       "      <td>62.58</td>\n",
       "      <td>10.43</td>\n",
       "      <td>10.43</td>\n",
       "      <td>6.224543e+10</td>\n",
       "      <td>0.0</td>\n",
       "      <td>REGULAR</td>\n",
       "    </tr>\n",
       "    <tr>\n",
       "      <th>...</th>\n",
       "      <td>...</td>\n",
       "      <td>...</td>\n",
       "      <td>...</td>\n",
       "      <td>...</td>\n",
       "      <td>...</td>\n",
       "      <td>...</td>\n",
       "      <td>...</td>\n",
       "      <td>...</td>\n",
       "      <td>...</td>\n",
       "      <td>...</td>\n",
       "      <td>...</td>\n",
       "      <td>...</td>\n",
       "      <td>...</td>\n",
       "      <td>...</td>\n",
       "      <td>...</td>\n",
       "      <td>...</td>\n",
       "      <td>...</td>\n",
       "      <td>...</td>\n",
       "      <td>...</td>\n",
       "      <td>...</td>\n",
       "      <td>...</td>\n",
       "    </tr>\n",
       "    <tr>\n",
       "      <th>9995</th>\n",
       "      <td>5100802</td>\n",
       "      <td>20190403</td>\n",
       "      <td>522110</td>\n",
       "      <td>5100802</td>\n",
       "      <td>2019-04-03</td>\n",
       "      <td>2019-03-29</td>\n",
       "      <td>1560</td>\n",
       "      <td>4</td>\n",
       "      <td>30</td>\n",
       "      <td>MICHIGAN</td>\n",
       "      <td>...</td>\n",
       "      <td>88880</td>\n",
       "      <td>BRANDS GLOBAL CO.</td>\n",
       "      <td>513</td>\n",
       "      <td>0.0</td>\n",
       "      <td>0.00</td>\n",
       "      <td>0.00</td>\n",
       "      <td>0.00</td>\n",
       "      <td>6.210701e+09</td>\n",
       "      <td>0.0</td>\n",
       "      <td>REGULAR</td>\n",
       "    </tr>\n",
       "    <tr>\n",
       "      <th>9996</th>\n",
       "      <td>5462559</td>\n",
       "      <td>20200827</td>\n",
       "      <td>4745048</td>\n",
       "      <td>5462559</td>\n",
       "      <td>2020-08-27</td>\n",
       "      <td>2020-08-25</td>\n",
       "      <td>75161</td>\n",
       "      <td>1</td>\n",
       "      <td>0</td>\n",
       "      <td>MICHIGAN</td>\n",
       "      <td>...</td>\n",
       "      <td>88880</td>\n",
       "      <td>BRANDS GLOBAL CO.</td>\n",
       "      <td>534</td>\n",
       "      <td>0.0</td>\n",
       "      <td>0.00</td>\n",
       "      <td>0.00</td>\n",
       "      <td>0.00</td>\n",
       "      <td>5.209220e+09</td>\n",
       "      <td>0.0</td>\n",
       "      <td>REGULAR</td>\n",
       "    </tr>\n",
       "    <tr>\n",
       "      <th>9997</th>\n",
       "      <td>5165659</td>\n",
       "      <td>20190708</td>\n",
       "      <td>620658</td>\n",
       "      <td>5165659</td>\n",
       "      <td>2019-07-08</td>\n",
       "      <td>2019-07-07</td>\n",
       "      <td>1954</td>\n",
       "      <td>1</td>\n",
       "      <td>62</td>\n",
       "      <td>MICHIGAN</td>\n",
       "      <td>...</td>\n",
       "      <td>88880</td>\n",
       "      <td>BRANDS GLOBAL CO.</td>\n",
       "      <td>528</td>\n",
       "      <td>0.0</td>\n",
       "      <td>0.00</td>\n",
       "      <td>0.00</td>\n",
       "      <td>0.00</td>\n",
       "      <td>5.731616e+09</td>\n",
       "      <td>0.0</td>\n",
       "      <td>REGULAR</td>\n",
       "    </tr>\n",
       "    <tr>\n",
       "      <th>9998</th>\n",
       "      <td>3274935</td>\n",
       "      <td>20200801</td>\n",
       "      <td>177550</td>\n",
       "      <td>3274935</td>\n",
       "      <td>2020-08-01</td>\n",
       "      <td>2020-07-31</td>\n",
       "      <td>2486</td>\n",
       "      <td>4</td>\n",
       "      <td>66</td>\n",
       "      <td>TEXAS</td>\n",
       "      <td>...</td>\n",
       "      <td>88880</td>\n",
       "      <td>BRANDS GLOBAL CO.</td>\n",
       "      <td>0</td>\n",
       "      <td>0.0</td>\n",
       "      <td>0.00</td>\n",
       "      <td>0.00</td>\n",
       "      <td>0.00</td>\n",
       "      <td>7.111761e+09</td>\n",
       "      <td>0.0</td>\n",
       "      <td>REGULAR</td>\n",
       "    </tr>\n",
       "    <tr>\n",
       "      <th>9999</th>\n",
       "      <td>6104799</td>\n",
       "      <td>20201129</td>\n",
       "      <td>398867</td>\n",
       "      <td>6104799</td>\n",
       "      <td>2020-11-29</td>\n",
       "      <td>2020-11-23</td>\n",
       "      <td>15165</td>\n",
       "      <td>1</td>\n",
       "      <td>0</td>\n",
       "      <td>CALIFORNIA</td>\n",
       "      <td>...</td>\n",
       "      <td>72223</td>\n",
       "      <td>THE GROCERY GROUP</td>\n",
       "      <td>0</td>\n",
       "      <td>0.0</td>\n",
       "      <td>0.00</td>\n",
       "      <td>0.00</td>\n",
       "      <td>0.00</td>\n",
       "      <td>6.961842e+09</td>\n",
       "      <td>0.0</td>\n",
       "      <td>REGULAR</td>\n",
       "    </tr>\n",
       "  </tbody>\n",
       "</table>\n",
       "<p>10000 rows × 46 columns</p>\n",
       "</div>"
      ],
      "text/plain": [
       "     ORDER_NUMBER  SHIPMENT_NUMBER  ITEM_NUMBER INVOICE_NUMBER INVOICE_DATE  \\\n",
       "0         6735217         20171129       428714        6735217   2017-11-29   \n",
       "1         6165708         20190626       408872        6165708   2019-06-26   \n",
       "2         6517073         20180910       354274        6517073   2018-09-10   \n",
       "3         6723693         20200513       222679        6723693   2020-05-13   \n",
       "4         6766514         20190128       431999        6766514   2019-01-28   \n",
       "...           ...              ...          ...            ...          ...   \n",
       "9995      5100802         20190403       522110        5100802   2019-04-03   \n",
       "9996      5462559         20200827      4745048        5462559   2020-08-27   \n",
       "9997      5165659         20190708       620658        5165659   2019-07-08   \n",
       "9998      3274935         20200801       177550        3274935   2020-08-01   \n",
       "9999      6104799         20201129       398867        6104799   2020-11-29   \n",
       "\n",
       "     ORDER_DATE  CUSTOMER_NUMBER  CUSTOMER_LOCATION  CUSTOMER_DEPARTMENT  \\\n",
       "0    2017-11-28              410                 10                    9   \n",
       "1    2019-06-24             1375                  1                   83   \n",
       "2    2018-09-08             2196                  1                   70   \n",
       "3    2020-05-09             1934                 50                   70   \n",
       "4    2019-01-25            75379                201                    0   \n",
       "...         ...              ...                ...                  ...   \n",
       "9995 2019-03-29             1560                  4                   30   \n",
       "9996 2020-08-25            75161                  1                    0   \n",
       "9997 2019-07-07             1954                  1                   62   \n",
       "9998 2020-07-31             2486                  4                   66   \n",
       "9999 2020-11-23            15165                  1                    0   \n",
       "\n",
       "     CUSTOMER_PROVINCE  ... COMPANY_CODE       COMPANY_NAME COMPANY_NUMBER  \\\n",
       "0                TEXAS  ...        88880  BRANDS GLOBAL CO.              0   \n",
       "1              ARIZONA  ...        88880  BRANDS GLOBAL CO.              0   \n",
       "2           CALIFORNIA  ...        88880  BRANDS GLOBAL CO.              0   \n",
       "3              ARIZONA  ...        88880  BRANDS GLOBAL CO.              0   \n",
       "4                TEXAS  ...        88880  BRANDS GLOBAL CO.              0   \n",
       "...                ...  ...          ...                ...            ...   \n",
       "9995          MICHIGAN  ...        88880  BRANDS GLOBAL CO.            513   \n",
       "9996          MICHIGAN  ...        88880  BRANDS GLOBAL CO.            534   \n",
       "9997          MICHIGAN  ...        88880  BRANDS GLOBAL CO.            528   \n",
       "9998             TEXAS  ...        88880  BRANDS GLOBAL CO.              0   \n",
       "9999        CALIFORNIA  ...        72223  THE GROCERY GROUP              0   \n",
       "\n",
       "     AVERAGE_COST_PRICE SALES_AMOUNT  INVOICE_AMOUNT  COST_PRICE  \\\n",
       "0                   0.0         3.36            0.56        0.56   \n",
       "1                   0.0        12.00            4.00        4.00   \n",
       "2                   0.0         7.16            1.79        1.79   \n",
       "3                   0.0        19.60            4.90        4.90   \n",
       "4                   0.0        62.58           10.43       10.43   \n",
       "...                 ...          ...             ...         ...   \n",
       "9995                0.0         0.00            0.00        0.00   \n",
       "9996                0.0         0.00            0.00        0.00   \n",
       "9997                0.0         0.00            0.00        0.00   \n",
       "9998                0.0         0.00            0.00        0.00   \n",
       "9999                0.0         0.00            0.00        0.00   \n",
       "\n",
       "        UPC_NUMBER  PURCHASE_ORDER_NUMBER  ORDER_TYPE  \n",
       "0     6.224543e+10                    0.0     REGULAR  \n",
       "1     6.224543e+10                    0.0     REGULAR  \n",
       "2     6.224543e+10                    0.0     REGULAR  \n",
       "3     6.224543e+10                    0.0     REGULAR  \n",
       "4     6.224543e+10                    0.0     REGULAR  \n",
       "...            ...                    ...         ...  \n",
       "9995  6.210701e+09                    0.0     REGULAR  \n",
       "9996  5.209220e+09                    0.0     REGULAR  \n",
       "9997  5.731616e+09                    0.0     REGULAR  \n",
       "9998  7.111761e+09                    0.0     REGULAR  \n",
       "9999  6.961842e+09                    0.0     REGULAR  \n",
       "\n",
       "[10000 rows x 46 columns]"
      ]
     },
     "execution_count": 23,
     "metadata": {},
     "output_type": "execute_result"
    }
   ],
   "source": [
    "#Checking if the date columns has changed to date time format correctly\n",
    "df_retail_sales"
   ]
  },
  {
   "cell_type": "code",
   "execution_count": 24,
   "id": "8ab5e754",
   "metadata": {},
   "outputs": [
    {
     "data": {
      "text/plain": [
       "Index(['ORDER_NUMBER', 'SHIPMENT_NUMBER', 'ITEM_NUMBER', 'INVOICE_DATE',\n",
       "       'ORDER_DATE', 'CUSTOMER_NUMBER', 'CUSTOMER_LOCATION',\n",
       "       'CUSTOMER_DEPARTMENT', 'CUSTOMER_PROVINCE', 'SHIPPING_REGION_NAME',\n",
       "       'SHIPPING_UNIT_MEASURE', 'SHIPPING_PACK_QUANTITY', 'ITEM_UNIT_QUANTITY',\n",
       "       'ITEM_DEPARTMENT', 'ITEM_SECTION', 'ITEM_SECTION_MODULE', 'ITEM_GROUP',\n",
       "       'ITEM_SEQUENCE', 'ITEM_STOCK_STATUS', 'WAREHOUSE_NAME',\n",
       "       'WAREHOUSE_REGION_NAME', 'VENDOR_IDENTIFIER', 'VENDOR_NAME',\n",
       "       'VENDOR_CITY', 'VENDOR_COUNTRY', 'ORDER_QUANTITY', 'SHIPPED_QUANTITY',\n",
       "       'COMPANY_NAME', 'AVERAGE_COST_PRICE', 'SALES_AMOUNT', 'INVOICE_AMOUNT',\n",
       "       'COST_PRICE', 'UPC_NUMBER', 'ORDER_TYPE'],\n",
       "      dtype='object')"
      ]
     },
     "execution_count": 24,
     "metadata": {},
     "output_type": "execute_result"
    }
   ],
   "source": [
    "df_new.columns"
   ]
  },
  {
   "cell_type": "markdown",
   "id": "7a69b6b9",
   "metadata": {},
   "source": [
    "## Checking for any inaccurate values for columns"
   ]
  },
  {
   "cell_type": "markdown",
   "id": "6f2a2ad9",
   "metadata": {},
   "source": [
    "The accuracy of the values of some columns were checked as shown below.That is, columns involving quantities and prices cannot be negative. So this was checked using the minimum and maximum values for these particular columns."
   ]
  },
  {
   "cell_type": "code",
   "execution_count": 25,
   "id": "e7460bb3",
   "metadata": {},
   "outputs": [
    {
     "data": {
      "text/plain": [
       "(0.0, 20148.4)"
      ]
     },
     "execution_count": 25,
     "metadata": {},
     "output_type": "execute_result"
    }
   ],
   "source": [
    "df_new[\"COST_PRICE\"].min(), df_new[\"COST_PRICE\"].max()"
   ]
  },
  {
   "cell_type": "code",
   "execution_count": 26,
   "id": "f52bbcc3",
   "metadata": {},
   "outputs": [
    {
     "data": {
      "text/plain": [
       "(0.0, 424.16)"
      ]
     },
     "execution_count": 26,
     "metadata": {},
     "output_type": "execute_result"
    }
   ],
   "source": [
    "df_new[\"AVERAGE_COST_PRICE\"].min(), df_new[\"AVERAGE_COST_PRICE\"].max()"
   ]
  },
  {
   "cell_type": "code",
   "execution_count": 27,
   "id": "c926a3f7",
   "metadata": {},
   "outputs": [
    {
     "data": {
      "text/plain": [
       "(1, 1000)"
      ]
     },
     "execution_count": 27,
     "metadata": {},
     "output_type": "execute_result"
    }
   ],
   "source": [
    "df_new[\"SHIPPING_PACK_QUANTITY\"].min(), df_new[\"SHIPPING_PACK_QUANTITY\"].max()"
   ]
  },
  {
   "cell_type": "code",
   "execution_count": 28,
   "id": "d21c06a4",
   "metadata": {},
   "outputs": [
    {
     "data": {
      "text/plain": [
       "(1.0, 2000.0)"
      ]
     },
     "execution_count": 28,
     "metadata": {},
     "output_type": "execute_result"
    }
   ],
   "source": [
    "df_new[\"ITEM_UNIT_QUANTITY\"].min(), df_new[\"ITEM_UNIT_QUANTITY\"].max()"
   ]
  },
  {
   "cell_type": "code",
   "execution_count": 29,
   "id": "43fd4f27",
   "metadata": {},
   "outputs": [
    {
     "data": {
      "text/plain": [
       "(1, 1080)"
      ]
     },
     "execution_count": 29,
     "metadata": {},
     "output_type": "execute_result"
    }
   ],
   "source": [
    "df_new[\"ORDER_QUANTITY\"].min(), df_new[\"ORDER_QUANTITY\"].max()"
   ]
  },
  {
   "cell_type": "code",
   "execution_count": 30,
   "id": "5e53086e",
   "metadata": {},
   "outputs": [
    {
     "data": {
      "text/plain": [
       "(0, 1080)"
      ]
     },
     "execution_count": 30,
     "metadata": {},
     "output_type": "execute_result"
    }
   ],
   "source": [
    "df_new[\"SHIPPED_QUANTITY\"].min(), df_new[\"SHIPPED_QUANTITY\"].max()"
   ]
  },
  {
   "cell_type": "code",
   "execution_count": 31,
   "id": "8c2d185b",
   "metadata": {},
   "outputs": [
    {
     "data": {
      "text/plain": [
       "(0.0, 25278.68)"
      ]
     },
     "execution_count": 31,
     "metadata": {},
     "output_type": "execute_result"
    }
   ],
   "source": [
    "df_new[\"SALES_AMOUNT\"].min(), df_new[\"SALES_AMOUNT\"].max()"
   ]
  },
  {
   "cell_type": "markdown",
   "id": "d7bca8eb",
   "metadata": {},
   "source": [
    "## Checking the shape of the new dataset "
   ]
  },
  {
   "cell_type": "code",
   "execution_count": 32,
   "id": "aa7588ef",
   "metadata": {},
   "outputs": [
    {
     "data": {
      "text/plain": [
       "(9948, 34)"
      ]
     },
     "execution_count": 32,
     "metadata": {},
     "output_type": "execute_result"
    }
   ],
   "source": [
    "df_new.shape"
   ]
  },
  {
   "cell_type": "code",
   "execution_count": 33,
   "id": "d347e197",
   "metadata": {},
   "outputs": [
    {
     "data": {
      "text/html": [
       "<div>\n",
       "<style scoped>\n",
       "    .dataframe tbody tr th:only-of-type {\n",
       "        vertical-align: middle;\n",
       "    }\n",
       "\n",
       "    .dataframe tbody tr th {\n",
       "        vertical-align: top;\n",
       "    }\n",
       "\n",
       "    .dataframe thead th {\n",
       "        text-align: right;\n",
       "    }\n",
       "</style>\n",
       "<table border=\"1\" class=\"dataframe\">\n",
       "  <thead>\n",
       "    <tr style=\"text-align: right;\">\n",
       "      <th></th>\n",
       "      <th>ORDER_NUMBER</th>\n",
       "      <th>SHIPMENT_NUMBER</th>\n",
       "      <th>ITEM_NUMBER</th>\n",
       "      <th>INVOICE_DATE</th>\n",
       "      <th>ORDER_DATE</th>\n",
       "      <th>CUSTOMER_NUMBER</th>\n",
       "      <th>CUSTOMER_LOCATION</th>\n",
       "      <th>CUSTOMER_DEPARTMENT</th>\n",
       "      <th>CUSTOMER_PROVINCE</th>\n",
       "      <th>SHIPPING_REGION_NAME</th>\n",
       "      <th>...</th>\n",
       "      <th>VENDOR_COUNTRY</th>\n",
       "      <th>ORDER_QUANTITY</th>\n",
       "      <th>SHIPPED_QUANTITY</th>\n",
       "      <th>COMPANY_NAME</th>\n",
       "      <th>AVERAGE_COST_PRICE</th>\n",
       "      <th>SALES_AMOUNT</th>\n",
       "      <th>INVOICE_AMOUNT</th>\n",
       "      <th>COST_PRICE</th>\n",
       "      <th>UPC_NUMBER</th>\n",
       "      <th>ORDER_TYPE</th>\n",
       "    </tr>\n",
       "  </thead>\n",
       "  <tbody>\n",
       "    <tr>\n",
       "      <th>0</th>\n",
       "      <td>6735217</td>\n",
       "      <td>20171129</td>\n",
       "      <td>428714</td>\n",
       "      <td>20171129</td>\n",
       "      <td>20171128</td>\n",
       "      <td>410</td>\n",
       "      <td>10</td>\n",
       "      <td>9</td>\n",
       "      <td>TEXAS</td>\n",
       "      <td>FLORIDA</td>\n",
       "      <td>...</td>\n",
       "      <td>US</td>\n",
       "      <td>6</td>\n",
       "      <td>6</td>\n",
       "      <td>BRANDS GLOBAL CO.</td>\n",
       "      <td>0.0</td>\n",
       "      <td>3.36</td>\n",
       "      <td>0.56</td>\n",
       "      <td>0.56</td>\n",
       "      <td>6.224543e+10</td>\n",
       "      <td>REGULAR</td>\n",
       "    </tr>\n",
       "    <tr>\n",
       "      <th>1</th>\n",
       "      <td>6165708</td>\n",
       "      <td>20190626</td>\n",
       "      <td>408872</td>\n",
       "      <td>20190626</td>\n",
       "      <td>20190624</td>\n",
       "      <td>1375</td>\n",
       "      <td>1</td>\n",
       "      <td>83</td>\n",
       "      <td>ARIZONA</td>\n",
       "      <td>FLORIDA</td>\n",
       "      <td>...</td>\n",
       "      <td>US</td>\n",
       "      <td>3</td>\n",
       "      <td>3</td>\n",
       "      <td>BRANDS GLOBAL CO.</td>\n",
       "      <td>0.0</td>\n",
       "      <td>12.00</td>\n",
       "      <td>4.00</td>\n",
       "      <td>4.00</td>\n",
       "      <td>6.224543e+10</td>\n",
       "      <td>REGULAR</td>\n",
       "    </tr>\n",
       "    <tr>\n",
       "      <th>2</th>\n",
       "      <td>6517073</td>\n",
       "      <td>20180910</td>\n",
       "      <td>354274</td>\n",
       "      <td>20180910</td>\n",
       "      <td>20180908</td>\n",
       "      <td>2196</td>\n",
       "      <td>1</td>\n",
       "      <td>70</td>\n",
       "      <td>CALIFORNIA</td>\n",
       "      <td>FLORIDA</td>\n",
       "      <td>...</td>\n",
       "      <td>US</td>\n",
       "      <td>4</td>\n",
       "      <td>4</td>\n",
       "      <td>BRANDS GLOBAL CO.</td>\n",
       "      <td>0.0</td>\n",
       "      <td>7.16</td>\n",
       "      <td>1.79</td>\n",
       "      <td>1.79</td>\n",
       "      <td>6.224543e+10</td>\n",
       "      <td>REGULAR</td>\n",
       "    </tr>\n",
       "    <tr>\n",
       "      <th>3</th>\n",
       "      <td>6723693</td>\n",
       "      <td>20200513</td>\n",
       "      <td>222679</td>\n",
       "      <td>20200513</td>\n",
       "      <td>20200509</td>\n",
       "      <td>1934</td>\n",
       "      <td>50</td>\n",
       "      <td>70</td>\n",
       "      <td>ARIZONA</td>\n",
       "      <td>FLORIDA</td>\n",
       "      <td>...</td>\n",
       "      <td>US</td>\n",
       "      <td>4</td>\n",
       "      <td>4</td>\n",
       "      <td>BRANDS GLOBAL CO.</td>\n",
       "      <td>0.0</td>\n",
       "      <td>19.60</td>\n",
       "      <td>4.90</td>\n",
       "      <td>4.90</td>\n",
       "      <td>6.224543e+10</td>\n",
       "      <td>REGULAR</td>\n",
       "    </tr>\n",
       "    <tr>\n",
       "      <th>4</th>\n",
       "      <td>6766514</td>\n",
       "      <td>20190128</td>\n",
       "      <td>431999</td>\n",
       "      <td>20190128</td>\n",
       "      <td>20190125</td>\n",
       "      <td>75379</td>\n",
       "      <td>201</td>\n",
       "      <td>0</td>\n",
       "      <td>TEXAS</td>\n",
       "      <td>FLORIDA</td>\n",
       "      <td>...</td>\n",
       "      <td>US</td>\n",
       "      <td>6</td>\n",
       "      <td>6</td>\n",
       "      <td>BRANDS GLOBAL CO.</td>\n",
       "      <td>0.0</td>\n",
       "      <td>62.58</td>\n",
       "      <td>10.43</td>\n",
       "      <td>10.43</td>\n",
       "      <td>6.224543e+10</td>\n",
       "      <td>REGULAR</td>\n",
       "    </tr>\n",
       "  </tbody>\n",
       "</table>\n",
       "<p>5 rows × 34 columns</p>\n",
       "</div>"
      ],
      "text/plain": [
       "  ORDER_NUMBER  SHIPMENT_NUMBER  ITEM_NUMBER  INVOICE_DATE  ORDER_DATE  \\\n",
       "0      6735217         20171129       428714      20171129    20171128   \n",
       "1      6165708         20190626       408872      20190626    20190624   \n",
       "2      6517073         20180910       354274      20180910    20180908   \n",
       "3      6723693         20200513       222679      20200513    20200509   \n",
       "4      6766514         20190128       431999      20190128    20190125   \n",
       "\n",
       "   CUSTOMER_NUMBER  CUSTOMER_LOCATION  CUSTOMER_DEPARTMENT CUSTOMER_PROVINCE  \\\n",
       "0              410                 10                    9             TEXAS   \n",
       "1             1375                  1                   83           ARIZONA   \n",
       "2             2196                  1                   70        CALIFORNIA   \n",
       "3             1934                 50                   70           ARIZONA   \n",
       "4            75379                201                    0             TEXAS   \n",
       "\n",
       "  SHIPPING_REGION_NAME  ... VENDOR_COUNTRY  ORDER_QUANTITY  SHIPPED_QUANTITY  \\\n",
       "0              FLORIDA  ...             US               6                 6   \n",
       "1              FLORIDA  ...             US               3                 3   \n",
       "2              FLORIDA  ...             US               4                 4   \n",
       "3              FLORIDA  ...             US               4                 4   \n",
       "4              FLORIDA  ...             US               6                 6   \n",
       "\n",
       "        COMPANY_NAME  AVERAGE_COST_PRICE  SALES_AMOUNT  INVOICE_AMOUNT  \\\n",
       "0  BRANDS GLOBAL CO.                 0.0          3.36            0.56   \n",
       "1  BRANDS GLOBAL CO.                 0.0         12.00            4.00   \n",
       "2  BRANDS GLOBAL CO.                 0.0          7.16            1.79   \n",
       "3  BRANDS GLOBAL CO.                 0.0         19.60            4.90   \n",
       "4  BRANDS GLOBAL CO.                 0.0         62.58           10.43   \n",
       "\n",
       "   COST_PRICE    UPC_NUMBER ORDER_TYPE  \n",
       "0        0.56  6.224543e+10    REGULAR  \n",
       "1        4.00  6.224543e+10    REGULAR  \n",
       "2        1.79  6.224543e+10    REGULAR  \n",
       "3        4.90  6.224543e+10    REGULAR  \n",
       "4       10.43  6.224543e+10    REGULAR  \n",
       "\n",
       "[5 rows x 34 columns]"
      ]
     },
     "execution_count": 33,
     "metadata": {},
     "output_type": "execute_result"
    }
   ],
   "source": [
    "#to see first few rows \n",
    "df_new.head()"
   ]
  },
  {
   "cell_type": "markdown",
   "id": "268f0acf",
   "metadata": {},
   "source": [
    "## Creating a column for profit, revenue and cost"
   ]
  },
  {
   "cell_type": "markdown",
   "id": "f3295cd0",
   "metadata": {},
   "source": [
    "New columns for revenue, cost and profit were made for better business insights for analysis later on. "
   ]
  },
  {
   "cell_type": "code",
   "execution_count": 35,
   "id": "93047678",
   "metadata": {},
   "outputs": [
    {
     "name": "stderr",
     "output_type": "stream",
     "text": [
      "C:\\Users\\User\\AppData\\Local\\Temp\\ipykernel_6224\\759782189.py:1: SettingWithCopyWarning: \n",
      "A value is trying to be set on a copy of a slice from a DataFrame.\n",
      "Try using .loc[row_indexer,col_indexer] = value instead\n",
      "\n",
      "See the caveats in the documentation: https://pandas.pydata.org/pandas-docs/stable/user_guide/indexing.html#returning-a-view-versus-a-copy\n",
      "  df_new[\"REVENUE\"] = df_new[\"SALES_AMOUNT\"] * df_new[\"ORDER_QUANTITY\"]\n"
     ]
    }
   ],
   "source": [
    "df_new[\"REVENUE\"] = df_new[\"SALES_AMOUNT\"] * df_new[\"ORDER_QUANTITY\"]"
   ]
  },
  {
   "cell_type": "code",
   "execution_count": 36,
   "id": "f971b48b",
   "metadata": {},
   "outputs": [
    {
     "name": "stderr",
     "output_type": "stream",
     "text": [
      "C:\\Users\\User\\AppData\\Local\\Temp\\ipykernel_6224\\3416835204.py:1: SettingWithCopyWarning: \n",
      "A value is trying to be set on a copy of a slice from a DataFrame.\n",
      "Try using .loc[row_indexer,col_indexer] = value instead\n",
      "\n",
      "See the caveats in the documentation: https://pandas.pydata.org/pandas-docs/stable/user_guide/indexing.html#returning-a-view-versus-a-copy\n",
      "  df_new[\"COST\"] = df_new[\"COST_PRICE\"] * df_new[\"ORDER_QUANTITY\"]\n"
     ]
    }
   ],
   "source": [
    "df_new[\"COST\"] = df_new[\"COST_PRICE\"] * df_new[\"ORDER_QUANTITY\"]"
   ]
  },
  {
   "cell_type": "code",
   "execution_count": 37,
   "id": "3a327100",
   "metadata": {},
   "outputs": [
    {
     "name": "stderr",
     "output_type": "stream",
     "text": [
      "C:\\Users\\User\\AppData\\Local\\Temp\\ipykernel_6224\\3960797594.py:1: SettingWithCopyWarning: \n",
      "A value is trying to be set on a copy of a slice from a DataFrame.\n",
      "Try using .loc[row_indexer,col_indexer] = value instead\n",
      "\n",
      "See the caveats in the documentation: https://pandas.pydata.org/pandas-docs/stable/user_guide/indexing.html#returning-a-view-versus-a-copy\n",
      "  df_new[\"PROFIT\"] = df_new[\"REVENUE\"] - df_new[\"COST\"]\n"
     ]
    }
   ],
   "source": [
    "df_new[\"PROFIT\"] = df_new[\"REVENUE\"] - df_new[\"COST\"]"
   ]
  },
  {
   "cell_type": "markdown",
   "id": "1470a2df",
   "metadata": {},
   "source": [
    "## Exporting the cleaned data to a csv file"
   ]
  },
  {
   "cell_type": "code",
   "execution_count": 34,
   "id": "3d4369b0",
   "metadata": {},
   "outputs": [],
   "source": [
    "#the new cleaned data set was exported to a new csv to use for future analysis and visualisations\n",
    "df_new.to_csv('Clean Retail Sales Dataset.csv',index=False)"
   ]
  }
 ],
 "metadata": {
  "kernelspec": {
   "display_name": "Python 3 (ipykernel)",
   "language": "python",
   "name": "python3"
  },
  "language_info": {
   "codemirror_mode": {
    "name": "ipython",
    "version": 3
   },
   "file_extension": ".py",
   "mimetype": "text/x-python",
   "name": "python",
   "nbconvert_exporter": "python",
   "pygments_lexer": "ipython3",
   "version": "3.9.12"
  }
 },
 "nbformat": 4,
 "nbformat_minor": 5
}
